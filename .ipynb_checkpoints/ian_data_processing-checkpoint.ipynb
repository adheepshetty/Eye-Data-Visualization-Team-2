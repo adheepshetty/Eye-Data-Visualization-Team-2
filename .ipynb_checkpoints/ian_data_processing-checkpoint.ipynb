{
 "cells": [
  {
   "cell_type": "code",
   "execution_count": 72,
   "metadata": {},
   "outputs": [],
   "source": [
    "import pandas as pd\n",
    "import glob\n",
    "import os\n",
    "from pathlib import Path"
   ]
  },
  {
   "cell_type": "code",
   "execution_count": 112,
   "metadata": {},
   "outputs": [],
   "source": [
    "# load an FXD csv into a dataframe for a particular person and visualization type\n",
    "def load_FXD(person, visualization):\n",
    "    cols = [\"fix_number\", \"timestamp\", \"duration\", \"gazepoint_x\", \"gazepoint_y\"]\n",
    "    path = Path.cwd() / \"data\" / person\n",
    "    FXD = pd.read_csv(path / f\"{person}.{visualization}FXD.txt\", sep=\"\\t\", names = cols, header=None)\n",
    "    return FXD\n",
    "\n",
    "# return search to process ratio (saccade duration sum / fixation duration sum)\n",
    "def search_to_process_ratio(FXD):\n",
    "    FXD[\"saccade_dur\"]= FXD[\"timestamp\"].diff()\n",
    "    return FXD[\"saccade_dur\"].sum() / FXD[\"duration\"].sum()\n",
    "\n",
    "# return both s to p and fixation duration average\n",
    "def information_processing_metrics(FXD):\n",
    "    fixation_duration_mean = FXD[\"duration\"].mean()\n",
    "    s_to_p_ratio = search_to_process_ratio(FXD)\n",
    "    return fixation_duration_mean, s_to_p_ratio\n",
    "\n",
    "# load additional data into dataframe\n",
    "def load_additional_data():\n",
    "    cols = [\"ID\", \"visualization\", \"task_success\", \"time_on_task\"]\n",
    "    path = Path.cwd() / \"Additional Participant Data.csv\"\n",
    "    additional_data = pd.read_csv(path, sep=\",\")\n",
    "    return additional_data\n",
    "\n",
    "def add_metrics_to_data(main):\n",
    "    for index, row in main.iterrows():\n",
    "    person = row[\"ID\"]\n",
    "    visualization = \"graph\" if row[\"Visualization\"] == 1 else \"tree\"\n",
    "    FXD = load_FXD(person, visualization)\n",
    "    fixation_duration_mean, s_to_p_ratio = information_processing_metrics(FXD)\n",
    "    main.loc[index, \"fixation_duration_mean\"] = fixation_duration_mean\n",
    "    main.loc[index, \"s_to_p_ratio\"] = s_to_p_ratio\n",
    "    return main"
   ]
  },
  {
   "cell_type": "code",
   "execution_count": 113,
   "metadata": {},
   "outputs": [
    {
     "data": {
      "text/html": [
       "<div>\n",
       "<style scoped>\n",
       "    .dataframe tbody tr th:only-of-type {\n",
       "        vertical-align: middle;\n",
       "    }\n",
       "\n",
       "    .dataframe tbody tr th {\n",
       "        vertical-align: top;\n",
       "    }\n",
       "\n",
       "    .dataframe thead th {\n",
       "        text-align: right;\n",
       "    }\n",
       "</style>\n",
       "<table border=\"1\" class=\"dataframe\">\n",
       "  <thead>\n",
       "    <tr style=\"text-align: right;\">\n",
       "      <th></th>\n",
       "      <th>ID</th>\n",
       "      <th>Ontologies</th>\n",
       "      <th>Visualization</th>\n",
       "      <th>Task_Success</th>\n",
       "      <th>Time_On_Task</th>\n",
       "    </tr>\n",
       "  </thead>\n",
       "  <tbody>\n",
       "    <tr>\n",
       "      <td>0</td>\n",
       "      <td>p1</td>\n",
       "      <td>1</td>\n",
       "      <td>1</td>\n",
       "      <td>0.608696</td>\n",
       "      <td>26</td>\n",
       "    </tr>\n",
       "    <tr>\n",
       "      <td>1</td>\n",
       "      <td>p1</td>\n",
       "      <td>2</td>\n",
       "      <td>2</td>\n",
       "      <td>0.521739</td>\n",
       "      <td>38</td>\n",
       "    </tr>\n",
       "    <tr>\n",
       "      <td>2</td>\n",
       "      <td>p3</td>\n",
       "      <td>1</td>\n",
       "      <td>1</td>\n",
       "      <td>0.478261</td>\n",
       "      <td>10</td>\n",
       "    </tr>\n",
       "    <tr>\n",
       "      <td>3</td>\n",
       "      <td>p3</td>\n",
       "      <td>2</td>\n",
       "      <td>2</td>\n",
       "      <td>0.391304</td>\n",
       "      <td>50</td>\n",
       "    </tr>\n",
       "    <tr>\n",
       "      <td>4</td>\n",
       "      <td>p5</td>\n",
       "      <td>1</td>\n",
       "      <td>1</td>\n",
       "      <td>0.521739</td>\n",
       "      <td>22</td>\n",
       "    </tr>\n",
       "    <tr>\n",
       "      <td>...</td>\n",
       "      <td>...</td>\n",
       "      <td>...</td>\n",
       "      <td>...</td>\n",
       "      <td>...</td>\n",
       "      <td>...</td>\n",
       "    </tr>\n",
       "    <tr>\n",
       "      <td>57</td>\n",
       "      <td>p32</td>\n",
       "      <td>2</td>\n",
       "      <td>1</td>\n",
       "      <td>0.347826</td>\n",
       "      <td>12</td>\n",
       "    </tr>\n",
       "    <tr>\n",
       "      <td>58</td>\n",
       "      <td>p34</td>\n",
       "      <td>1</td>\n",
       "      <td>2</td>\n",
       "      <td>0.608696</td>\n",
       "      <td>38</td>\n",
       "    </tr>\n",
       "    <tr>\n",
       "      <td>59</td>\n",
       "      <td>p34</td>\n",
       "      <td>2</td>\n",
       "      <td>1</td>\n",
       "      <td>0.565217</td>\n",
       "      <td>49</td>\n",
       "    </tr>\n",
       "    <tr>\n",
       "      <td>60</td>\n",
       "      <td>p36</td>\n",
       "      <td>1</td>\n",
       "      <td>2</td>\n",
       "      <td>0.434783</td>\n",
       "      <td>21</td>\n",
       "    </tr>\n",
       "    <tr>\n",
       "      <td>61</td>\n",
       "      <td>p36</td>\n",
       "      <td>2</td>\n",
       "      <td>1</td>\n",
       "      <td>0.521739</td>\n",
       "      <td>15</td>\n",
       "    </tr>\n",
       "  </tbody>\n",
       "</table>\n",
       "<p>62 rows × 5 columns</p>\n",
       "</div>"
      ],
      "text/plain": [
       "     ID  Ontologies  Visualization  Task_Success  Time_On_Task\n",
       "0    p1           1              1      0.608696            26\n",
       "1    p1           2              2      0.521739            38\n",
       "2    p3           1              1      0.478261            10\n",
       "3    p3           2              2      0.391304            50\n",
       "4    p5           1              1      0.521739            22\n",
       "..  ...         ...            ...           ...           ...\n",
       "57  p32           2              1      0.347826            12\n",
       "58  p34           1              2      0.608696            38\n",
       "59  p34           2              1      0.565217            49\n",
       "60  p36           1              2      0.434783            21\n",
       "61  p36           2              1      0.521739            15\n",
       "\n",
       "[62 rows x 5 columns]"
      ]
     },
     "execution_count": 113,
     "metadata": {},
     "output_type": "execute_result"
    }
   ],
   "source": [
    "main = load_additional_data()\n",
    "main"
   ]
  },
  {
   "cell_type": "code",
   "execution_count": 118,
   "metadata": {},
   "outputs": [],
   "source": [
    "for index, row in main.iterrows():\n",
    "    person = row[\"ID\"]\n",
    "    visualization = \"graph\" if row[\"Visualization\"] == 1 else \"tree\"\n",
    "    FXD = load_FXD(person, visualization)\n",
    "    fixation_duration_mean, s_to_p_ratio = information_processing_metrics(FXD)\n",
    "    main.loc[index, \"fixation_duration_mean\"] = fixation_duration_mean\n",
    "    main.loc[index, \"s_to_p_ratio\"] = s_to_p_ratio"
   ]
  },
  {
   "cell_type": "code",
   "execution_count": 119,
   "metadata": {},
   "outputs": [
    {
     "name": "stdout",
     "output_type": "stream",
     "text": [
      "     ID  Ontologies  Visualization  Task_Success  Time_On_Task  \\\n",
      "0    p1           1              1      0.608696            26   \n",
      "1    p1           2              2      0.521739            38   \n",
      "2    p3           1              1      0.478261            10   \n",
      "3    p3           2              2      0.391304            50   \n",
      "4    p5           1              1      0.521739            22   \n",
      "..  ...         ...            ...           ...           ...   \n",
      "57  p32           2              1      0.347826            12   \n",
      "58  p34           1              2      0.608696            38   \n",
      "59  p34           2              1      0.565217            49   \n",
      "60  p36           1              2      0.434783            21   \n",
      "61  p36           2              1      0.521739            15   \n",
      "\n",
      "    fixation_duration_mean  s_to_p_ratio  \n",
      "0               147.585879      6.392882  \n",
      "1               152.101624      3.793593  \n",
      "2               309.101167      1.224726  \n",
      "3               329.687980      1.217442  \n",
      "4               171.144015      5.918245  \n",
      "..                     ...           ...  \n",
      "57              359.318850      1.125640  \n",
      "58              217.757172      1.944468  \n",
      "59              199.780095      2.020164  \n",
      "60              351.170866      1.219933  \n",
      "61              255.034997      1.421534  \n",
      "\n",
      "[62 rows x 7 columns]\n"
     ]
    }
   ],
   "source": [
    "print(main)"
   ]
  },
  {
   "cell_type": "code",
   "execution_count": 20,
   "metadata": {},
   "outputs": [
    {
     "ename": "SyntaxError",
     "evalue": "invalid syntax (<ipython-input-20-3abdeafc85a5>, line 3)",
     "output_type": "error",
     "traceback": [
      "\u001b[0;36m  File \u001b[0;32m\"<ipython-input-20-3abdeafc85a5>\"\u001b[0;36m, line \u001b[0;32m3\u001b[0m\n\u001b[0;31m    for subdir\u001b[0m\n\u001b[0m              ^\u001b[0m\n\u001b[0;31mSyntaxError\u001b[0m\u001b[0;31m:\u001b[0m invalid syntax\n"
     ]
    }
   ],
   "source": [
    "directories_table = {}\n",
    "\n",
    "for subdir\n",
    "\n",
    "for directory in source_path.glob(\"*/**/**\"):\n",
    "    if directory.is_dir():\n",
    "        files_table = {}\n",
    "        if directory.is_dir():\n",
    "            directories_table[directory] = files_table\n",
    "            for file in directory.glob(\"**/*.txt\"):\n",
    "                print(file)\n",
    "            "
   ]
  },
  {
   "cell_type": "code",
   "execution_count": 13,
   "metadata": {},
   "outputs": [],
   "source": [
    "def create_dfs(source_path):\n",
    "    directories_table = {}\n",
    "    for directory in source_path.glob(\"*/**/**\"):\n",
    "        files_table = {}\n",
    "        if directory.is_dir():\n",
    "            directories_table[directory] = files_table\n",
    "            for file in directory.glob('**/*.txt'):\n",
    "                if \"EVD\" in file:\n",
    "                    files_table[file] = pd.read_csv(file, \n",
    "                                                    sep='\\t', \n",
    "                                                    error_bad_lines=False, \n",
    "                                                    names = ['Time', 'Event', 'EventKey', 'Data1', 'Data2', 'Description'] )\n",
    "                if \"FXD\" in file:\n",
    "                    files_table[file] = pd.read_csv(file, \n",
    "                                                    sep='\\t', \n",
    "                                                    error_bad_lines=False, \n",
    "                                                    names = ['ID', 'Time', 'Duration', 'X' , 'Y'] )\n",
    "                \n",
    "                if \"GZD\" in file:\n",
    "                    files_table[file] = pd.read_csv(file, \n",
    "                                                    sep='\\t', \n",
    "                                                    error_bad_lines=False, \n",
    "                                                    names = ['Time', 'ID', 'ScreenL X', 'ScreenL Y', 'CamL X', 'CamL Y', 'DistL', 'PupilL', 'CodeL',\n",
    "                                                            'ScreenR X', 'ScreenR Y', 'CamR X', 'CamR Y', 'DistR', 'PupilR', 'CodeR'] )\n",
    "                    \n",
    "    return directories_table  "
   ]
  },
  {
   "cell_type": "code",
   "execution_count": 15,
   "metadata": {},
   "outputs": [
    {
     "ename": "TypeError",
     "evalue": "argument of type 'PosixPath' is not iterable",
     "output_type": "error",
     "traceback": [
      "\u001b[0;31m---------------------------------------------------------------------------\u001b[0m",
      "\u001b[0;31mTypeError\u001b[0m                                 Traceback (most recent call last)",
      "\u001b[0;32m<ipython-input-15-8551055af250>\u001b[0m in \u001b[0;36m<module>\u001b[0;34m\u001b[0m\n\u001b[0;32m----> 1\u001b[0;31m \u001b[0mdirectories_table\u001b[0m \u001b[0;34m=\u001b[0m \u001b[0mcreate_dfs\u001b[0m\u001b[0;34m(\u001b[0m\u001b[0msource_path\u001b[0m\u001b[0;34m)\u001b[0m\u001b[0;34m\u001b[0m\u001b[0;34m\u001b[0m\u001b[0m\n\u001b[0m",
      "\u001b[0;32m<ipython-input-13-7cc1b359945a>\u001b[0m in \u001b[0;36mcreate_dfs\u001b[0;34m(source_path)\u001b[0m\n\u001b[1;32m      6\u001b[0m             \u001b[0mdirectories_table\u001b[0m\u001b[0;34m[\u001b[0m\u001b[0mdirectory\u001b[0m\u001b[0;34m]\u001b[0m \u001b[0;34m=\u001b[0m \u001b[0mfiles_table\u001b[0m\u001b[0;34m\u001b[0m\u001b[0;34m\u001b[0m\u001b[0m\n\u001b[1;32m      7\u001b[0m             \u001b[0;32mfor\u001b[0m \u001b[0mfile\u001b[0m \u001b[0;32min\u001b[0m \u001b[0mdirectory\u001b[0m\u001b[0;34m.\u001b[0m\u001b[0mglob\u001b[0m\u001b[0;34m(\u001b[0m\u001b[0;34m'**/*.txt'\u001b[0m\u001b[0;34m)\u001b[0m\u001b[0;34m:\u001b[0m\u001b[0;34m\u001b[0m\u001b[0;34m\u001b[0m\u001b[0m\n\u001b[0;32m----> 8\u001b[0;31m                 \u001b[0;32mif\u001b[0m \u001b[0;34m\"EVD\"\u001b[0m \u001b[0;32min\u001b[0m \u001b[0mfile\u001b[0m\u001b[0;34m:\u001b[0m\u001b[0;34m\u001b[0m\u001b[0;34m\u001b[0m\u001b[0m\n\u001b[0m\u001b[1;32m      9\u001b[0m                     files_table[file] = pd.read_csv(file, \n\u001b[1;32m     10\u001b[0m                                                     \u001b[0msep\u001b[0m\u001b[0;34m=\u001b[0m\u001b[0;34m'\\t'\u001b[0m\u001b[0;34m,\u001b[0m\u001b[0;34m\u001b[0m\u001b[0;34m\u001b[0m\u001b[0m\n",
      "\u001b[0;31mTypeError\u001b[0m: argument of type 'PosixPath' is not iterable"
     ]
    }
   ],
   "source": [
    "directories_table = create_dfs(source_path)"
   ]
  },
  {
   "cell_type": "code",
   "execution_count": 28,
   "metadata": {},
   "outputs": [
    {
     "ename": "KeyError",
     "evalue": "'p1'",
     "output_type": "error",
     "traceback": [
      "\u001b[0;31m---------------------------------------------------------------------------\u001b[0m",
      "\u001b[0;31mKeyError\u001b[0m                                  Traceback (most recent call last)",
      "\u001b[0;32m<ipython-input-28-022e59ed4430>\u001b[0m in \u001b[0;36m<module>\u001b[0;34m\u001b[0m\n\u001b[0;32m----> 1\u001b[0;31m \u001b[0mdirectories_table\u001b[0m\u001b[0;34m[\u001b[0m\u001b[0;34m'p1'\u001b[0m\u001b[0;34m]\u001b[0m\u001b[0;34m[\u001b[0m\u001b[0;34m'p1.graphEVD.txt'\u001b[0m\u001b[0;34m]\u001b[0m\u001b[0;34m.\u001b[0m\u001b[0mhead\u001b[0m\u001b[0;34m(\u001b[0m\u001b[0;34m)\u001b[0m\u001b[0;34m\u001b[0m\u001b[0;34m\u001b[0m\u001b[0m\n\u001b[0m",
      "\u001b[0;31mKeyError\u001b[0m: 'p1'"
     ]
    }
   ],
   "source": [
    "directories_table['p1']['p1.graphEVD.txt'].head()"
   ]
  },
  {
   "cell_type": "code",
   "execution_count": 181,
   "metadata": {},
   "outputs": [],
   "source": [
    "def domain_segregation(archive_path):\n",
    "    domain = {}\n",
    "    file_path = archive_path + \"/\" + 'Additional Participant Data.csv'\n",
    "    domain_df = pd.read_csv(file_path)\n",
    "#   Ontologie -> 1 -> 'general'\n",
    "#   Ontologie -> 2 -> 'expert'\n",
    "#   Visualization -> 1 -> 'tree'\n",
    "#   Visualization -> 2 -> 'graph'\n",
    "#     for viz, ont in zip(domain_df['Visualization'], domain_df['Ontologies']):\n",
    "#         if ont == 1 and viz == 1:\n",
    "    participants = domain_df.loc[((domain_df['Visualization'] == 1) & (domain_df['Ontologies'] == 1))]['ID']\n",
    "    for participant in participants:\n",
    "        for key in directories_table[participant].keys():\n",
    "            if \"tree\" in key:\n",
    "                domain['GeneralTree'] = directories_table[participant]\n",
    "                \n",
    "    participants = domain_df.loc[((domain_df['Visualization'] == 1) & (domain_df['Ontologies'] == 2))]['ID']\n",
    "    for participant in participants:\n",
    "        for key in directories_table[participant].keys():\n",
    "            if \"tree\" in key:\n",
    "                domain['ExpertTree'] = directories_table[participant]\n",
    "                \n",
    "    participants = domain_df.loc[((domain_df['Visualization'] == 2) & (domain_df['Ontologies'] == 1))]['ID']\n",
    "    for participant in participants:\n",
    "        for key in directories_table[participant].keys():\n",
    "            if \"graph\" in key:\n",
    "                domain['GeneralGraph'] = directories_table[participant]\n",
    "                \n",
    "    participants = domain_df.loc[((domain_df['Visualization'] == 2) & (domain_df['Ontologies'] == 2))]['ID']\n",
    "    for participant in participants:\n",
    "        for key in directories_table[participant].keys():\n",
    "            if \"graph\" in key:\n",
    "                domain['ExpertGraph'] = directories_table[participant]\n",
    "    return domain"
   ]
  },
  {
   "cell_type": "code",
   "execution_count": 182,
   "metadata": {},
   "outputs": [],
   "source": [
    "domain = domain_segregation(\"C:/Users/018094724sa/Downloads/Archive\")"
   ]
  }
 ],
 "metadata": {
  "kernelspec": {
   "display_name": "Python 3",
   "language": "python",
   "name": "python3"
  },
  "language_info": {
   "codemirror_mode": {
    "name": "ipython",
    "version": 3
   },
   "file_extension": ".py",
   "mimetype": "text/x-python",
   "name": "python",
   "nbconvert_exporter": "python",
   "pygments_lexer": "ipython3",
   "version": "3.7.4"
  }
 },
 "nbformat": 4,
 "nbformat_minor": 2
}
